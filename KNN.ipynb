{
 "cells": [
  {
   "cell_type": "markdown",
   "metadata": {},
   "source": [
    "# Diabetes prediction using KNN algorithm  "
   ]
  },
  {
   "cell_type": "markdown",
   "metadata": {},
   "source": [
    "__Context__<br/>\n",
    "- This dataset is originally from the National Institute of Diabetes and Digestive and Kidney Diseases. <br/>\n",
    "- The objective of the dataset is to diagnostically predict whether or not a patient has diabetes, based on certain diagnostic measurements included in the dataset. Several constraints were placed on the selection of these instances from a larger database. In particular, all patients here are females at least 21 years old of Pima Indian heritage.\n",
    "\n",
    "__Content__<br/>\n",
    "- The datasets consists of several medical predictor variables and one target variable, Outcome. Predictor variables includes the number of pregnancies the patient has had, their BMI, insulin level, age, and so on."
   ]
  },
  {
   "cell_type": "markdown",
   "metadata": {},
   "source": [
    "### Import the dataset"
   ]
  },
  {
   "cell_type": "code",
   "execution_count": 129,
   "metadata": {
    "colab": {
     "base_uri": "https://localhost:8080/",
     "height": 256
    },
    "colab_type": "code",
    "id": "hj8UmUJeU8tO",
    "outputId": "f18d948e-e1f4-4f7f-c39d-7fe2b00669ba"
   },
   "outputs": [
    {
     "data": {
      "text/html": [
       "<div>\n",
       "<style scoped>\n",
       "    .dataframe tbody tr th:only-of-type {\n",
       "        vertical-align: middle;\n",
       "    }\n",
       "\n",
       "    .dataframe tbody tr th {\n",
       "        vertical-align: top;\n",
       "    }\n",
       "\n",
       "    .dataframe thead th {\n",
       "        text-align: right;\n",
       "    }\n",
       "</style>\n",
       "<table border=\"1\" class=\"dataframe\">\n",
       "  <thead>\n",
       "    <tr style=\"text-align: right;\">\n",
       "      <th></th>\n",
       "      <th>Pregnancies</th>\n",
       "      <th>Glucose</th>\n",
       "      <th>BloodPressure</th>\n",
       "      <th>SkinThickness</th>\n",
       "      <th>Insulin</th>\n",
       "      <th>BMI</th>\n",
       "      <th>DiabetesPedigreeFunction</th>\n",
       "      <th>Age</th>\n",
       "      <th>Outcome</th>\n",
       "    </tr>\n",
       "  </thead>\n",
       "  <tbody>\n",
       "    <tr>\n",
       "      <th>0</th>\n",
       "      <td>6</td>\n",
       "      <td>148</td>\n",
       "      <td>72</td>\n",
       "      <td>35</td>\n",
       "      <td>0</td>\n",
       "      <td>33.6</td>\n",
       "      <td>0.627</td>\n",
       "      <td>50</td>\n",
       "      <td>1</td>\n",
       "    </tr>\n",
       "    <tr>\n",
       "      <th>1</th>\n",
       "      <td>1</td>\n",
       "      <td>85</td>\n",
       "      <td>66</td>\n",
       "      <td>29</td>\n",
       "      <td>0</td>\n",
       "      <td>26.6</td>\n",
       "      <td>0.351</td>\n",
       "      <td>31</td>\n",
       "      <td>0</td>\n",
       "    </tr>\n",
       "    <tr>\n",
       "      <th>2</th>\n",
       "      <td>8</td>\n",
       "      <td>183</td>\n",
       "      <td>64</td>\n",
       "      <td>0</td>\n",
       "      <td>0</td>\n",
       "      <td>23.3</td>\n",
       "      <td>0.672</td>\n",
       "      <td>32</td>\n",
       "      <td>1</td>\n",
       "    </tr>\n",
       "    <tr>\n",
       "      <th>3</th>\n",
       "      <td>1</td>\n",
       "      <td>89</td>\n",
       "      <td>66</td>\n",
       "      <td>23</td>\n",
       "      <td>94</td>\n",
       "      <td>28.1</td>\n",
       "      <td>0.167</td>\n",
       "      <td>21</td>\n",
       "      <td>0</td>\n",
       "    </tr>\n",
       "    <tr>\n",
       "      <th>4</th>\n",
       "      <td>0</td>\n",
       "      <td>137</td>\n",
       "      <td>40</td>\n",
       "      <td>35</td>\n",
       "      <td>168</td>\n",
       "      <td>43.1</td>\n",
       "      <td>2.288</td>\n",
       "      <td>33</td>\n",
       "      <td>1</td>\n",
       "    </tr>\n",
       "  </tbody>\n",
       "</table>\n",
       "</div>"
      ],
      "text/plain": [
       "   Pregnancies  Glucose  BloodPressure  SkinThickness  Insulin   BMI  \\\n",
       "0            6      148             72             35        0  33.6   \n",
       "1            1       85             66             29        0  26.6   \n",
       "2            8      183             64              0        0  23.3   \n",
       "3            1       89             66             23       94  28.1   \n",
       "4            0      137             40             35      168  43.1   \n",
       "\n",
       "   DiabetesPedigreeFunction  Age  Outcome  \n",
       "0                     0.627   50        1  \n",
       "1                     0.351   31        0  \n",
       "2                     0.672   32        1  \n",
       "3                     0.167   21        0  \n",
       "4                     2.288   33        1  "
      ]
     },
     "execution_count": 129,
     "metadata": {},
     "output_type": "execute_result"
    }
   ],
   "source": [
    "import pandas as pd\n",
    "diabetes = pd.read_csv('https://raw.githubusercontent.com/insaid2018/Term-3/master/Data/Assignment/diabetes.csv')\n",
    "diabetes.head()"
   ]
  },
  {
   "cell_type": "markdown",
   "metadata": {},
   "source": [
    "### Check the shape of the dataset"
   ]
  },
  {
   "cell_type": "code",
   "execution_count": 130,
   "metadata": {
    "colab": {
     "base_uri": "https://localhost:8080/",
     "height": 35
    },
    "colab_type": "code",
    "id": "r-NdDTW3ylAu",
    "outputId": "10d13550-82db-406c-f6bb-ad0dc2474be1"
   },
   "outputs": [
    {
     "data": {
      "text/plain": [
       "(768, 9)"
      ]
     },
     "execution_count": 130,
     "metadata": {},
     "output_type": "execute_result"
    }
   ],
   "source": [
    "diabetes.shape"
   ]
  },
  {
   "cell_type": "markdown",
   "metadata": {},
   "source": [
    "### Check the columns present in the dataset"
   ]
  },
  {
   "cell_type": "code",
   "execution_count": 131,
   "metadata": {
    "colab": {},
    "colab_type": "code",
    "id": "fzrXmgB6yrnK"
   },
   "outputs": [
    {
     "data": {
      "text/plain": [
       "Index(['Pregnancies', 'Glucose', 'BloodPressure', 'SkinThickness', 'Insulin',\n",
       "       'BMI', 'DiabetesPedigreeFunction', 'Age', 'Outcome'],\n",
       "      dtype='object')"
      ]
     },
     "execution_count": 131,
     "metadata": {},
     "output_type": "execute_result"
    }
   ],
   "source": [
    "diabetes.columns"
   ]
  },
  {
   "cell_type": "markdown",
   "metadata": {},
   "source": [
    "### Count of 0 and 1 from the diabetes variable."
   ]
  },
  {
   "cell_type": "code",
   "execution_count": 132,
   "metadata": {},
   "outputs": [
    {
     "data": {
      "text/plain": [
       "0    500\n",
       "1    268\n",
       "Name: Outcome, dtype: int64"
      ]
     },
     "execution_count": 132,
     "metadata": {},
     "output_type": "execute_result"
    }
   ],
   "source": [
    "diabetes.Outcome.value_counts()"
   ]
  },
  {
   "cell_type": "markdown",
   "metadata": {},
   "source": [
    "### Check the descriptive statisticss of the dataset"
   ]
  },
  {
   "cell_type": "code",
   "execution_count": 133,
   "metadata": {},
   "outputs": [
    {
     "data": {
      "text/html": [
       "<div>\n",
       "<style scoped>\n",
       "    .dataframe tbody tr th:only-of-type {\n",
       "        vertical-align: middle;\n",
       "    }\n",
       "\n",
       "    .dataframe tbody tr th {\n",
       "        vertical-align: top;\n",
       "    }\n",
       "\n",
       "    .dataframe thead th {\n",
       "        text-align: right;\n",
       "    }\n",
       "</style>\n",
       "<table border=\"1\" class=\"dataframe\">\n",
       "  <thead>\n",
       "    <tr style=\"text-align: right;\">\n",
       "      <th></th>\n",
       "      <th>Pregnancies</th>\n",
       "      <th>Glucose</th>\n",
       "      <th>BloodPressure</th>\n",
       "      <th>SkinThickness</th>\n",
       "      <th>Insulin</th>\n",
       "      <th>BMI</th>\n",
       "      <th>DiabetesPedigreeFunction</th>\n",
       "      <th>Age</th>\n",
       "      <th>Outcome</th>\n",
       "    </tr>\n",
       "  </thead>\n",
       "  <tbody>\n",
       "    <tr>\n",
       "      <th>count</th>\n",
       "      <td>768.000000</td>\n",
       "      <td>768.000000</td>\n",
       "      <td>768.000000</td>\n",
       "      <td>768.000000</td>\n",
       "      <td>768.000000</td>\n",
       "      <td>768.000000</td>\n",
       "      <td>768.000000</td>\n",
       "      <td>768.000000</td>\n",
       "      <td>768.000000</td>\n",
       "    </tr>\n",
       "    <tr>\n",
       "      <th>mean</th>\n",
       "      <td>3.845052</td>\n",
       "      <td>120.894531</td>\n",
       "      <td>69.105469</td>\n",
       "      <td>20.536458</td>\n",
       "      <td>79.799479</td>\n",
       "      <td>31.992578</td>\n",
       "      <td>0.471876</td>\n",
       "      <td>33.240885</td>\n",
       "      <td>0.348958</td>\n",
       "    </tr>\n",
       "    <tr>\n",
       "      <th>std</th>\n",
       "      <td>3.369578</td>\n",
       "      <td>31.972618</td>\n",
       "      <td>19.355807</td>\n",
       "      <td>15.952218</td>\n",
       "      <td>115.244002</td>\n",
       "      <td>7.884160</td>\n",
       "      <td>0.331329</td>\n",
       "      <td>11.760232</td>\n",
       "      <td>0.476951</td>\n",
       "    </tr>\n",
       "    <tr>\n",
       "      <th>min</th>\n",
       "      <td>0.000000</td>\n",
       "      <td>0.000000</td>\n",
       "      <td>0.000000</td>\n",
       "      <td>0.000000</td>\n",
       "      <td>0.000000</td>\n",
       "      <td>0.000000</td>\n",
       "      <td>0.078000</td>\n",
       "      <td>21.000000</td>\n",
       "      <td>0.000000</td>\n",
       "    </tr>\n",
       "    <tr>\n",
       "      <th>25%</th>\n",
       "      <td>1.000000</td>\n",
       "      <td>99.000000</td>\n",
       "      <td>62.000000</td>\n",
       "      <td>0.000000</td>\n",
       "      <td>0.000000</td>\n",
       "      <td>27.300000</td>\n",
       "      <td>0.243750</td>\n",
       "      <td>24.000000</td>\n",
       "      <td>0.000000</td>\n",
       "    </tr>\n",
       "    <tr>\n",
       "      <th>50%</th>\n",
       "      <td>3.000000</td>\n",
       "      <td>117.000000</td>\n",
       "      <td>72.000000</td>\n",
       "      <td>23.000000</td>\n",
       "      <td>30.500000</td>\n",
       "      <td>32.000000</td>\n",
       "      <td>0.372500</td>\n",
       "      <td>29.000000</td>\n",
       "      <td>0.000000</td>\n",
       "    </tr>\n",
       "    <tr>\n",
       "      <th>75%</th>\n",
       "      <td>6.000000</td>\n",
       "      <td>140.250000</td>\n",
       "      <td>80.000000</td>\n",
       "      <td>32.000000</td>\n",
       "      <td>127.250000</td>\n",
       "      <td>36.600000</td>\n",
       "      <td>0.626250</td>\n",
       "      <td>41.000000</td>\n",
       "      <td>1.000000</td>\n",
       "    </tr>\n",
       "    <tr>\n",
       "      <th>max</th>\n",
       "      <td>17.000000</td>\n",
       "      <td>199.000000</td>\n",
       "      <td>122.000000</td>\n",
       "      <td>99.000000</td>\n",
       "      <td>846.000000</td>\n",
       "      <td>67.100000</td>\n",
       "      <td>2.420000</td>\n",
       "      <td>81.000000</td>\n",
       "      <td>1.000000</td>\n",
       "    </tr>\n",
       "  </tbody>\n",
       "</table>\n",
       "</div>"
      ],
      "text/plain": [
       "       Pregnancies     Glucose  BloodPressure  SkinThickness     Insulin  \\\n",
       "count   768.000000  768.000000     768.000000     768.000000  768.000000   \n",
       "mean      3.845052  120.894531      69.105469      20.536458   79.799479   \n",
       "std       3.369578   31.972618      19.355807      15.952218  115.244002   \n",
       "min       0.000000    0.000000       0.000000       0.000000    0.000000   \n",
       "25%       1.000000   99.000000      62.000000       0.000000    0.000000   \n",
       "50%       3.000000  117.000000      72.000000      23.000000   30.500000   \n",
       "75%       6.000000  140.250000      80.000000      32.000000  127.250000   \n",
       "max      17.000000  199.000000     122.000000      99.000000  846.000000   \n",
       "\n",
       "              BMI  DiabetesPedigreeFunction         Age     Outcome  \n",
       "count  768.000000                768.000000  768.000000  768.000000  \n",
       "mean    31.992578                  0.471876   33.240885    0.348958  \n",
       "std      7.884160                  0.331329   11.760232    0.476951  \n",
       "min      0.000000                  0.078000   21.000000    0.000000  \n",
       "25%     27.300000                  0.243750   24.000000    0.000000  \n",
       "50%     32.000000                  0.372500   29.000000    0.000000  \n",
       "75%     36.600000                  0.626250   41.000000    1.000000  \n",
       "max     67.100000                  2.420000   81.000000    1.000000  "
      ]
     },
     "execution_count": 133,
     "metadata": {},
     "output_type": "execute_result"
    }
   ],
   "source": [
    "diabetes.describe()"
   ]
  },
  {
   "cell_type": "markdown",
   "metadata": {},
   "source": [
    "### Check the info of the dataset"
   ]
  },
  {
   "cell_type": "code",
   "execution_count": 134,
   "metadata": {},
   "outputs": [
    {
     "name": "stdout",
     "output_type": "stream",
     "text": [
      "<class 'pandas.core.frame.DataFrame'>\n",
      "RangeIndex: 768 entries, 0 to 767\n",
      "Data columns (total 9 columns):\n",
      "Pregnancies                 768 non-null int64\n",
      "Glucose                     768 non-null int64\n",
      "BloodPressure               768 non-null int64\n",
      "SkinThickness               768 non-null int64\n",
      "Insulin                     768 non-null int64\n",
      "BMI                         768 non-null float64\n",
      "DiabetesPedigreeFunction    768 non-null float64\n",
      "Age                         768 non-null int64\n",
      "Outcome                     768 non-null int64\n",
      "dtypes: float64(2), int64(7)\n",
      "memory usage: 54.1 KB\n"
     ]
    }
   ],
   "source": [
    "diabetes.info()"
   ]
  },
  {
   "cell_type": "markdown",
   "metadata": {},
   "source": [
    "### Q 1. Write a code to check the missing values present in the dataset. "
   ]
  },
  {
   "cell_type": "code",
   "execution_count": 135,
   "metadata": {},
   "outputs": [
    {
     "data": {
      "text/plain": [
       "Pregnancies                 0\n",
       "Glucose                     0\n",
       "BloodPressure               0\n",
       "SkinThickness               0\n",
       "Insulin                     0\n",
       "BMI                         0\n",
       "DiabetesPedigreeFunction    0\n",
       "Age                         0\n",
       "Outcome                     0\n",
       "dtype: int64"
      ]
     },
     "execution_count": 135,
     "metadata": {},
     "output_type": "execute_result"
    }
   ],
   "source": [
    "def generate():\n",
    "    return diabetes.isnull().sum()# your code to know if there is any missing value or not\n",
    "generate()"
   ]
  },
  {
   "cell_type": "markdown",
   "metadata": {},
   "source": [
    "### Q 2. Extract the dependent variables to create a dataframe X."
   ]
  },
  {
   "cell_type": "code",
   "execution_count": 136,
   "metadata": {},
   "outputs": [],
   "source": [
    "X = pd.DataFrame()\n",
    "def generate():\n",
    "    X=diabetes.drop(['Outcome'],axis=1) # write your code to create a dataframe of dependent variables excluding 'Outcome' variable\n",
    "    return X\n",
    "X = generate()"
   ]
  },
  {
   "cell_type": "code",
   "execution_count": 137,
   "metadata": {},
   "outputs": [
    {
     "data": {
      "text/html": [
       "<div>\n",
       "<style scoped>\n",
       "    .dataframe tbody tr th:only-of-type {\n",
       "        vertical-align: middle;\n",
       "    }\n",
       "\n",
       "    .dataframe tbody tr th {\n",
       "        vertical-align: top;\n",
       "    }\n",
       "\n",
       "    .dataframe thead th {\n",
       "        text-align: right;\n",
       "    }\n",
       "</style>\n",
       "<table border=\"1\" class=\"dataframe\">\n",
       "  <thead>\n",
       "    <tr style=\"text-align: right;\">\n",
       "      <th></th>\n",
       "      <th>Pregnancies</th>\n",
       "      <th>Glucose</th>\n",
       "      <th>BloodPressure</th>\n",
       "      <th>SkinThickness</th>\n",
       "      <th>Insulin</th>\n",
       "      <th>BMI</th>\n",
       "      <th>DiabetesPedigreeFunction</th>\n",
       "      <th>Age</th>\n",
       "    </tr>\n",
       "  </thead>\n",
       "  <tbody>\n",
       "    <tr>\n",
       "      <th>0</th>\n",
       "      <td>6</td>\n",
       "      <td>148</td>\n",
       "      <td>72</td>\n",
       "      <td>35</td>\n",
       "      <td>0</td>\n",
       "      <td>33.6</td>\n",
       "      <td>0.627</td>\n",
       "      <td>50</td>\n",
       "    </tr>\n",
       "    <tr>\n",
       "      <th>1</th>\n",
       "      <td>1</td>\n",
       "      <td>85</td>\n",
       "      <td>66</td>\n",
       "      <td>29</td>\n",
       "      <td>0</td>\n",
       "      <td>26.6</td>\n",
       "      <td>0.351</td>\n",
       "      <td>31</td>\n",
       "    </tr>\n",
       "    <tr>\n",
       "      <th>2</th>\n",
       "      <td>8</td>\n",
       "      <td>183</td>\n",
       "      <td>64</td>\n",
       "      <td>0</td>\n",
       "      <td>0</td>\n",
       "      <td>23.3</td>\n",
       "      <td>0.672</td>\n",
       "      <td>32</td>\n",
       "    </tr>\n",
       "    <tr>\n",
       "      <th>3</th>\n",
       "      <td>1</td>\n",
       "      <td>89</td>\n",
       "      <td>66</td>\n",
       "      <td>23</td>\n",
       "      <td>94</td>\n",
       "      <td>28.1</td>\n",
       "      <td>0.167</td>\n",
       "      <td>21</td>\n",
       "    </tr>\n",
       "    <tr>\n",
       "      <th>4</th>\n",
       "      <td>0</td>\n",
       "      <td>137</td>\n",
       "      <td>40</td>\n",
       "      <td>35</td>\n",
       "      <td>168</td>\n",
       "      <td>43.1</td>\n",
       "      <td>2.288</td>\n",
       "      <td>33</td>\n",
       "    </tr>\n",
       "  </tbody>\n",
       "</table>\n",
       "</div>"
      ],
      "text/plain": [
       "   Pregnancies  Glucose  BloodPressure  SkinThickness  Insulin   BMI  \\\n",
       "0            6      148             72             35        0  33.6   \n",
       "1            1       85             66             29        0  26.6   \n",
       "2            8      183             64              0        0  23.3   \n",
       "3            1       89             66             23       94  28.1   \n",
       "4            0      137             40             35      168  43.1   \n",
       "\n",
       "   DiabetesPedigreeFunction  Age  \n",
       "0                     0.627   50  \n",
       "1                     0.351   31  \n",
       "2                     0.672   32  \n",
       "3                     0.167   21  \n",
       "4                     2.288   33  "
      ]
     },
     "execution_count": 137,
     "metadata": {},
     "output_type": "execute_result"
    }
   ],
   "source": [
    "X.head()"
   ]
  },
  {
   "cell_type": "markdown",
   "metadata": {},
   "source": [
    "### Q 3. Extract the independent variable into a dataframe 'y' for model prediction."
   ]
  },
  {
   "cell_type": "code",
   "execution_count": 138,
   "metadata": {},
   "outputs": [],
   "source": [
    "y = pd.DataFrame()\n",
    "def generate():\n",
    "    y=diabetes.loc[:,diabetes.columns=='Outcome']   # write your code to create a dataframe which consists only of dependepent variable\n",
    "    return y\n",
    "y = generate()"
   ]
  },
  {
   "cell_type": "code",
   "execution_count": 139,
   "metadata": {},
   "outputs": [
    {
     "data": {
      "text/html": [
       "<div>\n",
       "<style scoped>\n",
       "    .dataframe tbody tr th:only-of-type {\n",
       "        vertical-align: middle;\n",
       "    }\n",
       "\n",
       "    .dataframe tbody tr th {\n",
       "        vertical-align: top;\n",
       "    }\n",
       "\n",
       "    .dataframe thead th {\n",
       "        text-align: right;\n",
       "    }\n",
       "</style>\n",
       "<table border=\"1\" class=\"dataframe\">\n",
       "  <thead>\n",
       "    <tr style=\"text-align: right;\">\n",
       "      <th></th>\n",
       "      <th>Outcome</th>\n",
       "    </tr>\n",
       "  </thead>\n",
       "  <tbody>\n",
       "    <tr>\n",
       "      <th>0</th>\n",
       "      <td>1</td>\n",
       "    </tr>\n",
       "    <tr>\n",
       "      <th>1</th>\n",
       "      <td>0</td>\n",
       "    </tr>\n",
       "    <tr>\n",
       "      <th>2</th>\n",
       "      <td>1</td>\n",
       "    </tr>\n",
       "    <tr>\n",
       "      <th>3</th>\n",
       "      <td>0</td>\n",
       "    </tr>\n",
       "    <tr>\n",
       "      <th>4</th>\n",
       "      <td>1</td>\n",
       "    </tr>\n",
       "  </tbody>\n",
       "</table>\n",
       "</div>"
      ],
      "text/plain": [
       "   Outcome\n",
       "0        1\n",
       "1        0\n",
       "2        1\n",
       "3        0\n",
       "4        1"
      ]
     },
     "execution_count": 139,
     "metadata": {},
     "output_type": "execute_result"
    }
   ],
   "source": [
    "y.head()"
   ]
  },
  {
   "cell_type": "markdown",
   "metadata": {},
   "source": [
    "### Q 4. Use StandardScaler to normalize X"
   ]
  },
  {
   "cell_type": "code",
   "execution_count": 140,
   "metadata": {},
   "outputs": [],
   "source": [
    "from sklearn.preprocessing import StandardScaler\n",
    "def generate():\n",
    "    standardized=StandardScaler()   # Your code here\n",
    "    standardized.fit(X)\n",
    "    x=standardized.transform(X)\n",
    "    return x #standardized X\n",
    "X = generate()"
   ]
  },
  {
   "cell_type": "code",
   "execution_count": 141,
   "metadata": {},
   "outputs": [
    {
     "data": {
      "text/plain": [
       "array([[ 0.63994726,  0.84832379,  0.14964075, ...,  0.20401277,\n",
       "         0.46849198,  1.4259954 ],\n",
       "       [-0.84488505, -1.12339636, -0.16054575, ..., -0.68442195,\n",
       "        -0.36506078, -0.19067191],\n",
       "       [ 1.23388019,  1.94372388, -0.26394125, ..., -1.10325546,\n",
       "         0.60439732, -0.10558415],\n",
       "       ...,\n",
       "       [ 0.3429808 ,  0.00330087,  0.14964075, ..., -0.73518964,\n",
       "        -0.68519336, -0.27575966],\n",
       "       [-0.84488505,  0.1597866 , -0.47073225, ..., -0.24020459,\n",
       "        -0.37110101,  1.17073215],\n",
       "       [-0.84488505, -0.8730192 ,  0.04624525, ..., -0.20212881,\n",
       "        -0.47378505, -0.87137393]])"
      ]
     },
     "execution_count": 141,
     "metadata": {},
     "output_type": "execute_result"
    }
   ],
   "source": [
    "X"
   ]
  },
  {
   "cell_type": "markdown",
   "metadata": {},
   "source": [
    "### Q 5. Split X and y into train and test dataset using random_state = 0 and test_size as 0.25."
   ]
  },
  {
   "cell_type": "code",
   "execution_count": 142,
   "metadata": {},
   "outputs": [],
   "source": [
    "from sklearn.model_selection import train_test_split\n",
    "def generate():\n",
    "    return train_test_split(X,y,test_size=0.25,random_state=0)   # train test split using train_test_split of 75:25 and random state=0\n",
    "X_train, X_test, y_train, y_test = generate()"
   ]
  },
  {
   "cell_type": "markdown",
   "metadata": {},
   "source": [
    "### Q 5.1 Check the shape of X and y of train dataset"
   ]
  },
  {
   "cell_type": "code",
   "execution_count": 143,
   "metadata": {},
   "outputs": [
    {
     "data": {
      "text/plain": [
       "((576, 8), (576, 1))"
      ]
     },
     "execution_count": 143,
     "metadata": {},
     "output_type": "execute_result"
    }
   ],
   "source": [
    "def generate():\n",
    "                                # your code her\n",
    "    return X_train.shape ,y_train.shape\n",
    "generate()"
   ]
  },
  {
   "cell_type": "markdown",
   "metadata": {},
   "source": [
    "### Q 5.2 Check the shape of X and y of test dataset"
   ]
  },
  {
   "cell_type": "code",
   "execution_count": 144,
   "metadata": {},
   "outputs": [
    {
     "data": {
      "text/plain": [
       "((192, 8), (192, 1))"
      ]
     },
     "execution_count": 144,
     "metadata": {},
     "output_type": "execute_result"
    }
   ],
   "source": [
    "def generate():\n",
    "    # your code here\n",
    "    return X_test.shape,y_test.shape\n",
    "generate()"
   ]
  },
  {
   "cell_type": "markdown",
   "metadata": {},
   "source": [
    "### Q 6. Create a KNN model instance with n_neighbors = 1 and fit this model to the training data."
   ]
  },
  {
   "cell_type": "code",
   "execution_count": 145,
   "metadata": {},
   "outputs": [
    {
     "name": "stderr",
     "output_type": "stream",
     "text": [
      "C:\\Users\\ab68523\\annaconda\\lib\\site-packages\\ipykernel_launcher.py:4: DataConversionWarning: A column-vector y was passed when a 1d array was expected. Please change the shape of y to (n_samples, ), for example using ravel().\n",
      "  after removing the cwd from sys.path.\n"
     ]
    }
   ],
   "source": [
    "from sklearn.neighbors import KNeighborsClassifier\n",
    "def generate():\n",
    "    knn_model1=KNeighborsClassifier(n_neighbors=1)  \n",
    "    knn_model1.fit(X_train,y_train)    #Your code here\n",
    "    return knn_model1\n",
    "knn_model1 = generate()"
   ]
  },
  {
   "cell_type": "markdown",
   "metadata": {},
   "source": [
    "### Q 7. Use RandomizedSearchCV  for hyperparameter tuning of your k nearest neighbor classifier. Keep n_iter as 25, random_state = 0 and  for the parameter range use the below ranges:\n",
    "- \"n_neighbors\": range(1,30),                               \n",
    "- \"algorithm\" : [\"auto\", \"ball_tree\"],\n",
    "- \"leaf_size\" :  2 ** np.arange(10),\n",
    "- \"metric\" : [\"euclidean\",\"manhattan\",\"minkowski\",\"chebyshev\"]"
   ]
  },
  {
   "cell_type": "code",
   "execution_count": 146,
   "metadata": {},
   "outputs": [
    {
     "name": "stderr",
     "output_type": "stream",
     "text": [
      "C:\\Users\\ab68523\\annaconda\\lib\\site-packages\\sklearn\\model_selection\\_search.py:741: DataConversionWarning: A column-vector y was passed when a 1d array was expected. Please change the shape of y to (n_samples, ), for example using ravel().\n",
      "  self.best_estimator_.fit(X, y, **fit_params)\n"
     ]
    },
    {
     "data": {
      "text/plain": [
       "RandomizedSearchCV(cv=None, error_score=nan,\n",
       "                   estimator=KNeighborsClassifier(algorithm='auto',\n",
       "                                                  leaf_size=30,\n",
       "                                                  metric='minkowski',\n",
       "                                                  metric_params=None,\n",
       "                                                  n_jobs=None, n_neighbors=5,\n",
       "                                                  p=2, weights='uniform'),\n",
       "                   iid='deprecated', n_iter=25, n_jobs=-1,\n",
       "                   param_distributions={'algorithm': ['auto', 'ball_tree'],\n",
       "                                        'leaf_size': array([  1,   2,   4,   8,  16,  32,  64, 128, 256, 512], dtype=int32),\n",
       "                                        'metric': ['euclidean', 'manhathon',\n",
       "                                                   'minkowski', 'chebyshev'],\n",
       "                                        'n_neighbors': range(1, 30)},\n",
       "                   pre_dispatch='2*n_jobs', random_state=0, refit=True,\n",
       "                   return_train_score=False, scoring=None, verbose=0)"
      ]
     },
     "execution_count": 146,
     "metadata": {},
     "output_type": "execute_result"
    }
   ],
   "source": [
    "from sklearn.model_selection import RandomizedSearchCV\n",
    "from scipy.stats import randint as sp_randint\n",
    "import numpy as np\n",
    "\n",
    "def generate():\n",
    "    param_dist={'n_neighbors':range(1,30),\n",
    "               'algorithm':['auto','ball_tree'],\n",
    "               'leaf_size':2**np.arange(10),\n",
    "               'metric':['euclidean','manhathon','minkowski','chebyshev']}\n",
    "                                                                      # your code here\n",
    "    n_iter_Search=25\n",
    "    knn_model=KNeighborsClassifier()\n",
    "    return  RandomizedSearchCV(knn_model,random_state=0,param_distributions=param_dist,n_iter=n_iter_Search,n_jobs=-1)                         # your variable for RandomizedSearchCV model\n",
    "knn_model2 = generate()\n",
    "knn_model2.fit(X_train,y_train)"
   ]
  },
  {
   "cell_type": "markdown",
   "metadata": {},
   "source": [
    "### Q 8.  To pick a good K Value create a for loop that trains various KNN models with different k values, then keep track of the accuracy_score for each of these models with a list. Also print out the maximum value of accuracy and the K for which it occurs. "
   ]
  },
  {
   "cell_type": "code",
   "execution_count": 147,
   "metadata": {},
   "outputs": [
    {
     "name": "stderr",
     "output_type": "stream",
     "text": [
      "C:\\Users\\ab68523\\annaconda\\lib\\site-packages\\ipykernel_launcher.py:7: DataConversionWarning: A column-vector y was passed when a 1d array was expected. Please change the shape of y to (n_samples, ), for example using ravel().\n",
      "  import sys\n",
      "C:\\Users\\ab68523\\annaconda\\lib\\site-packages\\ipykernel_launcher.py:7: DataConversionWarning: A column-vector y was passed when a 1d array was expected. Please change the shape of y to (n_samples, ), for example using ravel().\n",
      "  import sys\n",
      "C:\\Users\\ab68523\\annaconda\\lib\\site-packages\\ipykernel_launcher.py:7: DataConversionWarning: A column-vector y was passed when a 1d array was expected. Please change the shape of y to (n_samples, ), for example using ravel().\n",
      "  import sys\n",
      "C:\\Users\\ab68523\\annaconda\\lib\\site-packages\\ipykernel_launcher.py:7: DataConversionWarning: A column-vector y was passed when a 1d array was expected. Please change the shape of y to (n_samples, ), for example using ravel().\n",
      "  import sys\n",
      "C:\\Users\\ab68523\\annaconda\\lib\\site-packages\\ipykernel_launcher.py:7: DataConversionWarning: A column-vector y was passed when a 1d array was expected. Please change the shape of y to (n_samples, ), for example using ravel().\n",
      "  import sys\n",
      "C:\\Users\\ab68523\\annaconda\\lib\\site-packages\\ipykernel_launcher.py:7: DataConversionWarning: A column-vector y was passed when a 1d array was expected. Please change the shape of y to (n_samples, ), for example using ravel().\n",
      "  import sys\n",
      "C:\\Users\\ab68523\\annaconda\\lib\\site-packages\\ipykernel_launcher.py:7: DataConversionWarning: A column-vector y was passed when a 1d array was expected. Please change the shape of y to (n_samples, ), for example using ravel().\n",
      "  import sys\n",
      "C:\\Users\\ab68523\\annaconda\\lib\\site-packages\\ipykernel_launcher.py:7: DataConversionWarning: A column-vector y was passed when a 1d array was expected. Please change the shape of y to (n_samples, ), for example using ravel().\n",
      "  import sys\n",
      "C:\\Users\\ab68523\\annaconda\\lib\\site-packages\\ipykernel_launcher.py:7: DataConversionWarning: A column-vector y was passed when a 1d array was expected. Please change the shape of y to (n_samples, ), for example using ravel().\n",
      "  import sys\n",
      "C:\\Users\\ab68523\\annaconda\\lib\\site-packages\\ipykernel_launcher.py:7: DataConversionWarning: A column-vector y was passed when a 1d array was expected. Please change the shape of y to (n_samples, ), for example using ravel().\n",
      "  import sys\n",
      "C:\\Users\\ab68523\\annaconda\\lib\\site-packages\\ipykernel_launcher.py:7: DataConversionWarning: A column-vector y was passed when a 1d array was expected. Please change the shape of y to (n_samples, ), for example using ravel().\n",
      "  import sys\n",
      "C:\\Users\\ab68523\\annaconda\\lib\\site-packages\\ipykernel_launcher.py:7: DataConversionWarning: A column-vector y was passed when a 1d array was expected. Please change the shape of y to (n_samples, ), for example using ravel().\n",
      "  import sys\n",
      "C:\\Users\\ab68523\\annaconda\\lib\\site-packages\\ipykernel_launcher.py:7: DataConversionWarning: A column-vector y was passed when a 1d array was expected. Please change the shape of y to (n_samples, ), for example using ravel().\n",
      "  import sys\n",
      "C:\\Users\\ab68523\\annaconda\\lib\\site-packages\\ipykernel_launcher.py:7: DataConversionWarning: A column-vector y was passed when a 1d array was expected. Please change the shape of y to (n_samples, ), for example using ravel().\n",
      "  import sys\n"
     ]
    },
    {
     "name": "stdout",
     "output_type": "stream",
     "text": [
      "Maximum accuracy and the corresponding value of k is (0.71875, 1) respectively.\n",
      "Maximum accuracy and the corresponding value of k is (0.7395833333333334, 2) respectively.\n",
      "Maximum accuracy and the corresponding value of k is (0.7395833333333334, 2) respectively.\n",
      "Maximum accuracy and the corresponding value of k is (0.7708333333333334, 4) respectively.\n",
      "Maximum accuracy and the corresponding value of k is (0.8072916666666666, 5) respectively.\n",
      "Maximum accuracy and the corresponding value of k is (0.8072916666666666, 5) respectively.\n",
      "Maximum accuracy and the corresponding value of k is (0.8072916666666666, 5) respectively.\n",
      "Maximum accuracy and the corresponding value of k is (0.8072916666666666, 5) respectively.\n",
      "Maximum accuracy and the corresponding value of k is (0.8072916666666666, 5) respectively.\n",
      "Maximum accuracy and the corresponding value of k is (0.8072916666666666, 5) respectively.\n",
      "Maximum accuracy and the corresponding value of k is (0.8072916666666666, 5) respectively.\n",
      "Maximum accuracy and the corresponding value of k is (0.8072916666666666, 5) respectively.\n",
      "Maximum accuracy and the corresponding value of k is (0.8072916666666666, 5) respectively.\n",
      "Maximum accuracy and the corresponding value of k is (0.8072916666666666, 5) respectively.\n",
      "Maximum accuracy and the corresponding value of k is"
     ]
    },
    {
     "name": "stderr",
     "output_type": "stream",
     "text": [
      "C:\\Users\\ab68523\\annaconda\\lib\\site-packages\\ipykernel_launcher.py:7: DataConversionWarning: A column-vector y was passed when a 1d array was expected. Please change the shape of y to (n_samples, ), for example using ravel().\n",
      "  import sys\n",
      "C:\\Users\\ab68523\\annaconda\\lib\\site-packages\\ipykernel_launcher.py:7: DataConversionWarning: A column-vector y was passed when a 1d array was expected. Please change the shape of y to (n_samples, ), for example using ravel().\n",
      "  import sys\n",
      "C:\\Users\\ab68523\\annaconda\\lib\\site-packages\\ipykernel_launcher.py:7: DataConversionWarning: A column-vector y was passed when a 1d array was expected. Please change the shape of y to (n_samples, ), for example using ravel().\n",
      "  import sys\n",
      "C:\\Users\\ab68523\\annaconda\\lib\\site-packages\\ipykernel_launcher.py:7: DataConversionWarning: A column-vector y was passed when a 1d array was expected. Please change the shape of y to (n_samples, ), for example using ravel().\n",
      "  import sys\n",
      "C:\\Users\\ab68523\\annaconda\\lib\\site-packages\\ipykernel_launcher.py:7: DataConversionWarning: A column-vector y was passed when a 1d array was expected. Please change the shape of y to (n_samples, ), for example using ravel().\n",
      "  import sys\n",
      "C:\\Users\\ab68523\\annaconda\\lib\\site-packages\\ipykernel_launcher.py:7: DataConversionWarning: A column-vector y was passed when a 1d array was expected. Please change the shape of y to (n_samples, ), for example using ravel().\n",
      "  import sys\n",
      "C:\\Users\\ab68523\\annaconda\\lib\\site-packages\\ipykernel_launcher.py:7: DataConversionWarning: A column-vector y was passed when a 1d array was expected. Please change the shape of y to (n_samples, ), for example using ravel().\n",
      "  import sys\n",
      "C:\\Users\\ab68523\\annaconda\\lib\\site-packages\\ipykernel_launcher.py:7: DataConversionWarning: A column-vector y was passed when a 1d array was expected. Please change the shape of y to (n_samples, ), for example using ravel().\n",
      "  import sys\n",
      "C:\\Users\\ab68523\\annaconda\\lib\\site-packages\\ipykernel_launcher.py:7: DataConversionWarning: A column-vector y was passed when a 1d array was expected. Please change the shape of y to (n_samples, ), for example using ravel().\n",
      "  import sys\n",
      "C:\\Users\\ab68523\\annaconda\\lib\\site-packages\\ipykernel_launcher.py:7: DataConversionWarning: A column-vector y was passed when a 1d array was expected. Please change the shape of y to (n_samples, ), for example using ravel().\n",
      "  import sys\n",
      "C:\\Users\\ab68523\\annaconda\\lib\\site-packages\\ipykernel_launcher.py:7: DataConversionWarning: A column-vector y was passed when a 1d array was expected. Please change the shape of y to (n_samples, ), for example using ravel().\n",
      "  import sys\n",
      "C:\\Users\\ab68523\\annaconda\\lib\\site-packages\\ipykernel_launcher.py:7: DataConversionWarning: A column-vector y was passed when a 1d array was expected. Please change the shape of y to (n_samples, ), for example using ravel().\n",
      "  import sys\n",
      "C:\\Users\\ab68523\\annaconda\\lib\\site-packages\\ipykernel_launcher.py:7: DataConversionWarning: A column-vector y was passed when a 1d array was expected. Please change the shape of y to (n_samples, ), for example using ravel().\n",
      "  import sys\n",
      "C:\\Users\\ab68523\\annaconda\\lib\\site-packages\\ipykernel_launcher.py:7: DataConversionWarning: A column-vector y was passed when a 1d array was expected. Please change the shape of y to (n_samples, ), for example using ravel().\n",
      "  import sys\n",
      "C:\\Users\\ab68523\\annaconda\\lib\\site-packages\\ipykernel_launcher.py:7: DataConversionWarning: A column-vector y was passed when a 1d array was expected. Please change the shape of y to (n_samples, ), for example using ravel().\n",
      "  import sys\n"
     ]
    },
    {
     "name": "stdout",
     "output_type": "stream",
     "text": [
      " (0.8072916666666666, 5) respectively.\n",
      "Maximum accuracy and the corresponding value of k is (0.8072916666666666, 5) respectively.\n",
      "Maximum accuracy and the corresponding value of k is (0.8072916666666666, 5) respectively.\n",
      "Maximum accuracy and the corresponding value of k is (0.8072916666666666, 5) respectively.\n",
      "Maximum accuracy and the corresponding value of k is (0.8072916666666666, 5) respectively.\n",
      "Maximum accuracy and the corresponding value of k is (0.8072916666666666, 5) respectively.\n",
      "Maximum accuracy and the corresponding value of k is (0.8072916666666666, 5) respectively.\n",
      "Maximum accuracy and the corresponding value of k is (0.8072916666666666, 5) respectively.\n",
      "Maximum accuracy and the corresponding value of k is (0.8072916666666666, 5) respectively.\n",
      "Maximum accuracy and the corresponding value of k is (0.8072916666666666, 5) respectively.\n",
      "Maximum accuracy and the corresponding value of k is (0.8072916666666666, 5) respectively.\n",
      "Maximum accuracy and the corresponding value of k is (0.8072916666666666, 5) respectively.\n",
      "Maximum accuracy and the corresponding value of k is (0.8072916666666666, 5) respectively.\n",
      "Maximum accuracy and the corresponding value of k is (0.8072916666666666, 5) respectively.\n",
      "Maximum accuracy and the corresponding value of k is (0.8072916666666666, 5) respectively.\n"
     ]
    }
   ],
   "source": [
    "import numpy as np\n",
    "from sklearn.metrics import accuracy_score\n",
    "accuracy_list = []\n",
    "def generate():\n",
    "    for i in range(1,30):\n",
    "        knn_model_=KNeighborsClassifier(n_neighbors=i)\n",
    "        knn_model_.fit(X_train,y_train)\n",
    "        pred_i=knn_model_.predict(X_test)\n",
    "        accuracy_list.append(accuracy_score(y_test,pred_i))\n",
    "        \n",
    "        '''print('maximum accuracy and its value of K is :',\n",
    "             max([(v,i+1) for i, v in enumerate(accuracy_list)])) \n",
    "        max([(v,i+1) for i,v in enumerate(accuracy_list)])'''\n",
    "        print(\"Maximum accuracy and the corresponding value of k is\",\n",
    "          max([(v,i+1) for i,v in enumerate(accuracy_list)]),'respectively.')\n",
    "    \n",
    "generate()"
   ]
  },
  {
   "cell_type": "code",
   "execution_count": 148,
   "metadata": {},
   "outputs": [
    {
     "name": "stdout",
     "output_type": "stream",
     "text": [
      "maximum accuracy corresponding to value of K : (0.8072916666666666, 5) respectively\n"
     ]
    }
   ],
   "source": [
    "maxaccuracy=max(accuracy_list)\n",
    "maxK=accuracy_list.index(maxv)\n",
    "print('maximum accuracy corresponding to value of K :', (maxaccuracy, maxK+1),'respectively')"
   ]
  },
  {
   "cell_type": "markdown",
   "metadata": {},
   "source": [
    "### Q 9.  Plot Accuracy of model at various k values and find the best value of k."
   ]
  },
  {
   "cell_type": "code",
   "execution_count": 149,
   "metadata": {},
   "outputs": [
    {
     "data": {
      "image/png": "[encoded data removed]",
      "text/plain": [
       "<Figure size 1080x432 with 1 Axes>"
      ]
     },
     "metadata": {
      "needs_background": "light"
     },
     "output_type": "display_data"
    }
   ],
   "source": [
    "import matplotlib.pyplot as plt\n",
    "%matplotlib inline\n",
    "def generate():\n",
    "    plt.figure(figsize=(15,6))\n",
    "    plt.plot(range(1,30),accuracy_list,color='blue',linestyle='dashed',marker='o',markerfacecolor='red',markersize=10)\n",
    "    return\n",
    "generate()"
   ]
  },
  {
   "cell_type": "markdown",
   "metadata": {},
   "source": [
    "### Q 10. Create KNN model instance with n_neighbors = 8 and fit this model to the training data."
   ]
  },
  {
   "cell_type": "code",
   "execution_count": 150,
   "metadata": {},
   "outputs": [
    {
     "name": "stderr",
     "output_type": "stream",
     "text": [
      "C:\\Users\\ab68523\\annaconda\\lib\\site-packages\\ipykernel_launcher.py:4: DataConversionWarning: A column-vector y was passed when a 1d array was expected. Please change the shape of y to (n_samples, ), for example using ravel().\n",
      "  after removing the cwd from sys.path.\n"
     ]
    }
   ],
   "source": [
    "from sklearn.neighbors import KNeighborsClassifier\n",
    "def generate():\n",
    "    knn_model8=KNeighborsClassifier(n_neighbors=8)\n",
    "    knn_model8.fit(X_train,y_train)\n",
    "    return knn_model8\n",
    "knn_model8 = generate()"
   ]
  },
  {
   "cell_type": "code",
   "execution_count": 151,
   "metadata": {},
   "outputs": [
    {
     "name": "stderr",
     "output_type": "stream",
     "text": [
      "C:\\Users\\ab68523\\annaconda\\lib\\site-packages\\ipykernel_launcher.py:4: DataConversionWarning: A column-vector y was passed when a 1d array was expected. Please change the shape of y to (n_samples, ), for example using ravel().\n",
      "  after removing the cwd from sys.path.\n"
     ]
    }
   ],
   "source": [
    "from sklearn.neighbors import KNeighborsClassifier\n",
    "def generate():\n",
    "    knn_model5=KNeighborsClassifier(n_neighbors=5)\n",
    "    knn_model5.fit(X_train,y_train)\n",
    "    return knn_model5\n",
    "knn_model5 = generate()"
   ]
  },
  {
   "cell_type": "markdown",
   "metadata": {},
   "source": [
    "### Q 11. Instantitate and fit Logistic Regression model using scikit-learn with random_state = 0"
   ]
  },
  {
   "cell_type": "code",
   "execution_count": 152,
   "metadata": {},
   "outputs": [
    {
     "name": "stderr",
     "output_type": "stream",
     "text": [
      "C:\\Users\\ab68523\\annaconda\\lib\\site-packages\\sklearn\\utils\\validation.py:744: DataConversionWarning: A column-vector y was passed when a 1d array was expected. Please change the shape of y to (n_samples, ), for example using ravel().\n",
      "  y = column_or_1d(y, warn=True)\n"
     ]
    }
   ],
   "source": [
    "from sklearn.linear_model import LogisticRegression\n",
    "def generate():\n",
    "    logreg=LogisticRegression(random_state=0)\n",
    "    logreg.fit(X_train,y_train)\n",
    "    return logreg\n",
    "logreg = generate()"
   ]
  },
  {
   "cell_type": "markdown",
   "metadata": {},
   "source": [
    "### Q 12. Use the models for predictions"
   ]
  },
  {
   "cell_type": "code",
   "execution_count": 153,
   "metadata": {},
   "outputs": [],
   "source": [
    "predictions_knn_model1 = pd.DataFrame()\n",
    "predictions_knn_model2 = pd.DataFrame()\n",
    "predictions_knn_model8 = pd.DataFrame()\n",
    "predictions_knn_model5 = pd.DataFrame()\n",
    "predictions_logreg = pd.DataFrame()\n",
    "def generate():\n",
    "    predictions_knn_model1=knn_model1.predict(X_test)\n",
    "    predictions_knn_model2=knn_model2.predict(X_test)\n",
    "    predictions_knn_model8=knn_model8.predict(X_test)\n",
    "    predictions_knn_model5=knn_model5.predict(X_test)\n",
    "    predictions_logreg=logreg.predict(X_test)\n",
    "    return predictions_knn_model1,predictions_knn_model2,predictions_knn_model8,predictions_knn_model5,predictions_logreg\n",
    "predictions_knn_model1,predictions_knn_model2,predictions_knn_model8,predictions_knn_model5,predictions_logreg = generate()"
   ]
  },
  {
   "cell_type": "markdown",
   "metadata": {},
   "source": [
    "### Q 13. Evaluate all the models using accuracy score and print them out."
   ]
  },
  {
   "cell_type": "code",
   "execution_count": 154,
   "metadata": {},
   "outputs": [
    {
     "name": "stdout",
     "output_type": "stream",
     "text": [
      "\n",
      "\n",
      " Accuracy score for test data for knn_model1 is : 0.71875\n",
      "\n",
      "\n",
      " Accuracy score for test data for knn_model2 is : 0.7864583333333334\n",
      "\n",
      "\n",
      " Accuracy score for test data for knn_model8 is : 0.78125\n",
      "\n",
      "\n",
      " Accuracy score for test data for knn_model5 is : 0.8072916666666666\n",
      "\n",
      "\n",
      " Accuracy score for test data for logreg model is : 0.8020833333333334\n"
     ]
    }
   ],
   "source": [
    "from sklearn.metrics import accuracy_score\n",
    "def generate():\n",
    "    print('\\n\\n Accuracy score for test data for knn_model1 is :',accuracy_score(y_test, predictions_knn_model1))\n",
    "    print('\\n\\n Accuracy score for test data for knn_model2 is :',accuracy_score(y_test, predictions_knn_model2))\n",
    "    print('\\n\\n Accuracy score for test data for knn_model8 is :',accuracy_score(y_test, predictions_knn_model8))\n",
    "    print('\\n\\n Accuracy score for test data for knn_model5 is :',accuracy_score(y_test, predictions_knn_model5))\n",
    "    print('\\n\\n Accuracy score for test data for logreg model is :',accuracy_score(y_test, predictions_logreg))\n",
    "    return \n",
    "generate()"
   ]
  },
  {
   "cell_type": "markdown",
   "metadata": {
    "colab_type": "text",
    "id": "98sOG1W4U8qB"
   },
   "source": [
    "### Q 14. Evaluate all the models using confusion matrix and print them out."
   ]
  },
  {
   "cell_type": "code",
   "execution_count": 168,
   "metadata": {
    "colab": {
     "base_uri": "https://localhost:8080/",
     "height": 54
    },
    "colab_type": "code",
    "id": "Sm7EqIBB_BhK",
    "outputId": "13c3b55e-8869-4813-869b-3c17d87c72b6"
   },
   "outputs": [
    {
     "name": "stdout",
     "output_type": "stream",
     "text": [
      "\n",
      "\n",
      " confusion matrix for knn_model1 is\n",
      "\n",
      "                      Predicted Not Diabetes  Predicted Diabetes\n",
      "Actual Not Diabetes                     108                  22\n",
      "Actual Diabetes                          32                  30\n",
      "\n",
      "\n",
      " confusion matrix for knn_model2 is\n",
      "\n",
      "                      Predicted Not Diabetes  Predicted Diabetes\n",
      "Actual Not Diabetes                     118                  12\n",
      "Actual Diabetes                          29                  33\n",
      "\n",
      "\n",
      " confusion matrix for knn_model8 is\n",
      "\n",
      "                      Predicted Not Diabetes  Predicted Diabetes\n",
      "Actual Not Diabetes                     119                  11\n",
      "Actual Diabetes                          31                  31\n",
      "\n",
      "\n",
      " confusion matrix for knn_model5 is\n",
      "\n",
      "                      Predicted Not Diabetes  Predicted Diabetes\n",
      "Actual Not Diabetes                     115                  15\n",
      "Actual Diabetes                          22                  40\n",
      "\n",
      "\n",
      " confusion matrix for logistic regression is \n",
      "\n",
      "                       Predicted Not Duabetes   Predicted Duabetes\n",
      "Actual Not Diabetes                     118                   12\n",
      "Actual Diabetes                          26                   36\n"
     ]
    }
   ],
   "source": [
    "from sklearn.metrics import confusion_matrix\n",
    "\n",
    "def generate():\n",
    "    matrix_knn_model1 = pd.DataFrame(confusion_matrix(y_test, predictions_knn_model1))\n",
    "    matrix_knn_model1.index = ['Actual Not Diabetes','Actual Diabetes']\n",
    "    matrix_knn_model1.columns = ['Predicted Not Diabetes','Predicted Diabetes']\n",
    "    print('\\n\\n confusion matrix for knn_model1 is\\n\\n',matrix_knn_model1)\n",
    "    \n",
    "    matrix_knn_model2 = pd.DataFrame(confusion_matrix(y_test, predictions_knn_model2))\n",
    "    matrix_knn_model2.index = ['Actual Not Diabetes','Actual Diabetes']\n",
    "    matrix_knn_model2.columns = ['Predicted Not Diabetes','Predicted Diabetes']\n",
    "    print('\\n\\n confusion matrix for knn_model2 is\\n\\n',matrix_knn_model2)\n",
    "    \n",
    "    matrix_knn_model8 = pd.DataFrame(confusion_matrix(y_test, predictions_knn_model8))\n",
    "    matrix_knn_model8.index = ['Actual Not Diabetes','Actual Diabetes']\n",
    "    matrix_knn_model8.columns = ['Predicted Not Diabetes','Predicted Diabetes']\n",
    "    print('\\n\\n confusion matrix for knn_model8 is\\n\\n',matrix_knn_model8)\n",
    "    \n",
    "     \n",
    "    matrix_knn_model5 = pd.DataFrame(confusion_matrix(y_test, predictions_knn_model5))\n",
    "    matrix_knn_model5.index = ['Actual Not Diabetes','Actual Diabetes']\n",
    "    matrix_knn_model5.columns = ['Predicted Not Diabetes','Predicted Diabetes']\n",
    "    print('\\n\\n confusion matrix for knn_model5 is\\n\\n',matrix_knn_model5)\n",
    "    \n",
    "    matrix_logreg=pd.DataFrame(confusion_matrix(y_test,predictions_logreg))\n",
    "    matrix_logreg.index=['Actual Not Diabetes','Actual Diabetes']\n",
    "    matrix_logreg.columns=['Predicted Not Duabetes',' Predicted Duabetes']\n",
    "    print('\\n\\n confusion matrix for logistic regression is \\n\\n ', matrix_logreg)\n",
    "   \n",
    "    return \n",
    "generate()"
   ]
  },
  {
   "cell_type": "markdown",
   "metadata": {
    "colab_type": "text",
    "id": "98sOG1W4U8qB"
   },
   "source": [
    "### Q 15. Evaluate all the models using classification matrix and print them out."
   ]
  },
  {
   "cell_type": "code",
   "execution_count": 169,
   "metadata": {},
   "outputs": [
    {
     "name": "stdout",
     "output_type": "stream",
     "text": [
      "\n",
      "\n",
      " classification report for knn_model1:\n",
      "\n",
      "               precision    recall  f1-score   support\n",
      "\n",
      "           0       0.77      0.83      0.80       130\n",
      "           1       0.58      0.48      0.53        62\n",
      "\n",
      "    accuracy                           0.72       192\n",
      "   macro avg       0.67      0.66      0.66       192\n",
      "weighted avg       0.71      0.72      0.71       192\n",
      "\n",
      "\n",
      "\n",
      " classification report for knn_model2:\n",
      "\n",
      "               precision    recall  f1-score   support\n",
      "\n",
      "           0       0.80      0.91      0.85       130\n",
      "           1       0.73      0.53      0.62        62\n",
      "\n",
      "    accuracy                           0.79       192\n",
      "   macro avg       0.77      0.72      0.73       192\n",
      "weighted avg       0.78      0.79      0.78       192\n",
      "\n",
      "\n",
      "\n",
      " classification report for knn_model8:\n",
      "\n",
      "               precision    recall  f1-score   support\n",
      "\n",
      "           0       0.79      0.92      0.85       130\n",
      "           1       0.74      0.50      0.60        62\n",
      "\n",
      "    accuracy                           0.78       192\n",
      "   macro avg       0.77      0.71      0.72       192\n",
      "weighted avg       0.78      0.78      0.77       192\n",
      "\n",
      "\n",
      "\n",
      " classification report for knn_model5:\n",
      "\n",
      "               precision    recall  f1-score   support\n",
      "\n",
      "           0       0.84      0.88      0.86       130\n",
      "           1       0.73      0.65      0.68        62\n",
      "\n",
      "    accuracy                           0.81       192\n",
      "   macro avg       0.78      0.76      0.77       192\n",
      "weighted avg       0.80      0.81      0.80       192\n",
      "\n",
      "\n",
      "\n",
      " classification report for logreg:\n",
      "\n",
      "               precision    recall  f1-score   support\n",
      "\n",
      "           0       0.82      0.91      0.86       130\n",
      "           1       0.75      0.58      0.65        62\n",
      "\n",
      "    accuracy                           0.80       192\n",
      "   macro avg       0.78      0.74      0.76       192\n",
      "weighted avg       0.80      0.80      0.79       192\n",
      "\n"
     ]
    }
   ],
   "source": [
    "from sklearn.metrics import classification_report\n",
    "def generate():\n",
    "    print('\\n\\n classification report for knn_model1:\\n\\n',classification_report(y_test, predictions_knn_model1))\n",
    "    print('\\n\\n classification report for knn_model2:\\n\\n',classification_report(y_test, predictions_knn_model2))\n",
    "    print('\\n\\n classification report for knn_model8:\\n\\n',classification_report(y_test, predictions_knn_model8))\n",
    "    print('\\n\\n classification report for knn_model5:\\n\\n',classification_report(y_test, predictions_knn_model5))\n",
    "    print('\\n\\n classification report for logreg:\\n\\n',classification_report(y_test, predictions_logreg))\n",
    "    return\n",
    "generate()"
   ]
  },
  {
   "cell_type": "markdown",
   "metadata": {},
   "source": [
    "Conclusion:"
   ]
  },
  {
   "cell_type": "markdown",
   "metadata": {},
   "source": [
    "Hence KNN model with K=5 is best model to predict the diabetes patient"
   ]
  }
 ],
 "metadata": {
  "kernelspec": {
   "display_name": "Python 3",
   "language": "python",
   "name": "python3"
  },
  "language_info": {
   "codemirror_mode": {
    "name": "ipython",
    "version": 3
   },
   "file_extension": ".py",
   "mimetype": "text/x-python",
   "name": "python",
   "nbconvert_exporter": "python",
   "pygments_lexer": "ipython3",
   "version": "3.7.3"
  }
 },
 "nbformat": 4,
 "nbformat_minor": 2
}
